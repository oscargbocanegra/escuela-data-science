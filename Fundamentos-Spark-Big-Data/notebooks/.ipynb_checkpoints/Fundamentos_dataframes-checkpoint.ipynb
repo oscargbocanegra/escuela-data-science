{
 "cells": [
  {
   "cell_type": "code",
   "execution_count": 4,
   "id": "08cdd2be",
   "metadata": {},
   "outputs": [],
   "source": [
    "# Importando las librerias para el ejercicio.\n",
    "from pyspark import SparkContext\n",
    "from pyspark.sql import SparkSession\n",
    "from pyspark.sql.types import StructType, StructField\n",
    "from pyspark.sql.types import IntegerType, StringType, FloatType\n",
    "from pyspark.sql.types import Row\n",
    "from pyspark.sql import SQLContext\n",
    "from pyspark import SparkContext\n",
    "from pyspark.sql.functions import *"
   ]
  },
  {
   "cell_type": "code",
   "execution_count": 5,
   "id": "97deebd1",
   "metadata": {},
   "outputs": [],
   "source": [
    "# Creando el contexto que funciona como punto de conexion para todo spark.\n",
    "spark = SparkContext(master=\"local\", appName=\"DataFrames\")\n",
    "sqlContext = SQLContext(spark)\n",
    "\n",
    "# Creando una variable que guarde la ruta de los archivos de datos.\n",
    "path = \"/home/jovyan/work/files/\""
   ]
  },
  {
   "cell_type": "code",
   "execution_count": 6,
   "id": "86773b95",
   "metadata": {
    "scrolled": true
   },
   "outputs": [
    {
     "name": "stdout",
     "output_type": "stream",
     "text": [
      "auto-mpg.data\t\tdeportista2.csv      juegos.csv\r\n",
      "auto-mpg.data-original\tdeportista.csv\t     modelo_relacional.jpg\r\n",
      "auto-mpg.names\t\tdeportistaError.csv  paises.csv\r\n",
      "data.csv\t\tevento.csv\t     resultados.csv\r\n",
      "deporte.csv\t\timports-85.data      synthetic_control.data\r\n"
     ]
    }
   ],
   "source": [
    "# Consultando la ruta para ubicar los archivos.\n",
    "!ls /home/jovyan/work/files"
   ]
  },
  {
   "cell_type": "code",
   "execution_count": 8,
   "id": "d925d82d",
   "metadata": {},
   "outputs": [
    {
     "name": "stdout",
     "output_type": "stream",
     "text": [
      "+--------+------------+----+---------+---------+\n",
      "|juego_id|nombre_juego|anio|temporada|   ciudad|\n",
      "+--------+------------+----+---------+---------+\n",
      "|       1| 1896 Verano|1896|   Verano|   Athina|\n",
      "|       2| 1900 Verano|1900|   Verano|    Paris|\n",
      "|       3| 1904 Verano|1904|   Verano|St. Louis|\n",
      "|       4| 1906 Verano|1906|   Verano|   Athina|\n",
      "+--------+------------+----+---------+---------+\n",
      "only showing top 4 rows\n",
      "\n"
     ]
    }
   ],
   "source": [
    "# Creando Schema para los campos del RDD.\n",
    "Schema_juegosRDD = StructType([\n",
    "    StructField(\"juego_id\", IntegerType(),False),\n",
    "    StructField(\"nombre_juego\", StringType(),False),\n",
    "    StructField(\"anio\", IntegerType(),False),\n",
    "    StructField(\"temporada\", StringType(),False),\n",
    "    StructField(\"ciudad\", StringType(),False)\n",
    "])\n",
    "\n",
    "\n",
    "# Indicando lectura para cargar el archivo.\n",
    "juegoDF = sqlContext.read.schema(Schema_juegosRDD).option(\"header\",\"true\").csv(path + \"juegos.csv\")\n",
    "\n",
    "# Visualizando el dataframe con show().\n",
    "juegoDF.show(4)"
   ]
  },
  {
   "cell_type": "code",
   "execution_count": 9,
   "id": "7613acad",
   "metadata": {},
   "outputs": [],
   "source": [
    "# Creando DataFrames de archivos .data\n",
    "autoDataRDD = spark.textFile(path+\"auto-mpg.data\").map(lambda l : l.replace(\"\\\\s\",\"\"))\n",
    "imports85RDD = spark.textFile(path+\"imports-85.data\").map(lambda l : l.replace(\"\\\\s\",\"\"))\n",
    "synthetic_controlRDD = spark.textFile(path+\"synthetic_control.data\").map(lambda l : l.replace(\"\\\\s\",\"\"))"
   ]
  },
  {
   "cell_type": "code",
   "execution_count": 11,
   "id": "52a33233",
   "metadata": {},
   "outputs": [
    {
     "name": "stdout",
     "output_type": "stream",
     "text": [
      "root\n",
      " |-- juego_id: integer (nullable = true)\n",
      " |-- nombre_juego: string (nullable = true)\n",
      " |-- anio: integer (nullable = true)\n",
      " |-- temporada: string (nullable = true)\n",
      " |-- ciudad: string (nullable = true)\n",
      "\n"
     ]
    }
   ],
   "source": [
    "#Consultando el schema de un Dataframe.\n",
    "juegoDF.printSchema()"
   ]
  },
  {
   "cell_type": "code",
   "execution_count": 13,
   "id": "6838d59f",
   "metadata": {},
   "outputs": [],
   "source": [
    "# Creando funcion para eliminar encabezados\n",
    "def eliminaEncabezado(indice, iterador):\n",
    "    return iter(list(iterador)[1:])"
   ]
  },
  {
   "cell_type": "code",
   "execution_count": 14,
   "id": "cdcec328",
   "metadata": {},
   "outputs": [],
   "source": [
    "# Creando el Dataframes a partir de los RDD correspondiente al archivo deportista.csv.\n",
    "deportistaOlimpicoRDD = spark.textFile(path+\"deportista.csv\").map(lambda l : l.split(\",\"))\n",
    "\n",
    "# Pasando El RDD a la funcion creada para eliminar el encabezado.\n",
    "deportistaOlimpicoRDD = deportistaOlimpicoRDD.mapPartitionsWithIndex(eliminaEncabezado)\n",
    "\n",
    "# Transformando los valores del RDD.\n",
    "deportistaOlimpicoRDD = deportistaOlimpicoRDD.map(lambda l : (\n",
    "int(l[0]),\n",
    "l[1],\n",
    "int(l[2]),\n",
    "int(l[3]),\n",
    "int(l[4]),\n",
    "float(l[5]),\n",
    "int(l[6])\n",
    "))\n",
    "\n",
    "# Creando el Schema para los campos del RDD\n",
    "schemadeportistaOlimpicoRDD = StructType([\n",
    "    StructField(\"deportista_id\",IntegerType(),False),\n",
    "    StructField(\"nombre\",StringType(),False),\n",
    "    StructField(\"genero\",IntegerType(),False),\n",
    "    StructField(\"edad\",IntegerType(),False),\n",
    "    StructField(\"altura\",IntegerType(),False),\n",
    "    StructField(\"peso\",FloatType(),False),\n",
    "    StructField(\"equipo_id\",IntegerType(),False)\n",
    "])\n",
    "\n",
    "# Visualizando la transformación del Dataframe deportistaDF.\n",
    "deportistaDF = sqlContext.createDataFrame(deportistaOlimpicoRDD,schemadeportistaOlimpicoRDD)"
   ]
  },
  {
   "cell_type": "code",
   "execution_count": 15,
   "id": "f3a419e7",
   "metadata": {},
   "outputs": [],
   "source": [
    "# Creando el Dataframes a partir de los RDD correspondiente al archivo data.csv\n",
    "dataRDD = spark.textFile(path+\"data.csv\").map(lambda l : l.split(\",\"))\n",
    "\n",
    "# Pasando El RDD a la funcion creada para eliminar el encabezado.\n",
    "dataRDD = dataRDD.mapPartitionsWithIndex(eliminaEncabezado)\n",
    "\n",
    "# Transformando los valores del RDD.\n",
    "dataRDD = dataRDD.map(lambda l : (\n",
    "l[0],\n",
    "l[1],\n",
    "int(l[2])\n",
    "))\n",
    "\n",
    "# Creando Schema para los campos del RDD.\n",
    "schemadataRDD = StructType([\n",
    "    StructField(\"Estado\",StringType(),False),\n",
    "    StructField(\"color\",StringType(),False),\n",
    "    StructField(\"contador\",IntegerType(),False)\n",
    "])\n",
    "\n",
    "# Visualizando la transformación del Dataframe.\n",
    "dataDF = sqlContext.createDataFrame(dataRDD,schemadataRDD)"
   ]
  },
  {
   "cell_type": "code",
   "execution_count": 16,
   "id": "00ba182f",
   "metadata": {},
   "outputs": [],
   "source": [
    "# Creando el Dataframes a partir de los RDD correspondiente al archivo deporte.csv\n",
    "deporteRDD = spark.textFile(path+\"deporte.csv\").map(lambda l : l.split(\",\"))\n",
    "\n",
    "# Pasando El RDD a la funcion creada para eliminar el encabezado.\n",
    "deporteRDD = deporteRDD.mapPartitionsWithIndex(eliminaEncabezado)\n",
    "\n",
    "# Transformando los valores del RDD.\n",
    "deporteRDD = deporteRDD.map(lambda l : (\n",
    "int(l[0]),\n",
    "l[1]\n",
    "))\n",
    "\n",
    "# Creando Schema para los campos del RDD.\n",
    "schema_deporteRDD = StructType([\n",
    "    StructField(\"deporte_ID\",IntegerType(),False),\n",
    "    StructField(\"deporte\",StringType(),False)\n",
    "])\n",
    "\n",
    "# Visualizando la transformación del Dataframe.\n",
    "deporteDF = sqlContext.createDataFrame(deporteRDD,schema_deporteRDD)"
   ]
  },
  {
   "cell_type": "code",
   "execution_count": 17,
   "id": "16ba151a",
   "metadata": {},
   "outputs": [],
   "source": [
    "# Creando el Dataframes a partir de los RDD correspondiente al archivo deportista2.csv\n",
    "deportista2RDD = spark.textFile(path+\"deportista2.csv\").map(lambda l : l.split(\",\"))\n",
    "\n",
    "# Pasando El RDD a la funcion creada para eliminar el encabezado.\n",
    "deportista2RDD = deportista2RDD.mapPartitionsWithIndex(eliminaEncabezado)\n",
    "\n",
    "# Transformando los valores del RDD.\n",
    "deportista2RDD = deportista2RDD.map(lambda l : (\n",
    "int(l[0]),\n",
    "l[1],\n",
    "int(l[2]),\n",
    "int(l[3]),\n",
    "int(l[4]),\n",
    "float(l[5]),\n",
    "int(l[6])\n",
    "))\n",
    "\n",
    "# Creando Schema para los campos del RDD.\n",
    "schema_deportista2RDD = StructType([\n",
    "    StructField(\"deportista_id\",IntegerType(),False),\n",
    "    StructField(\"nombre\",StringType(),False),\n",
    "    StructField(\"genero\",IntegerType(),False),\n",
    "    StructField(\"edad\",IntegerType(),False),\n",
    "    StructField(\"altura\",IntegerType(),False),\n",
    "    StructField(\"peso\",FloatType(),False),\n",
    "    StructField(\"equipo_id\",IntegerType(),False)\n",
    "])\n",
    "\n",
    "# Visualizando la transformación del Dataframe.\n",
    "deportista2RDD = sqlContext.createDataFrame(deportista2RDD,schema_deportista2RDD)"
   ]
  },
  {
   "cell_type": "code",
   "execution_count": 18,
   "id": "e9e61917",
   "metadata": {},
   "outputs": [],
   "source": [
    "# Creando el Dataframes a partir de los RDD correspondiente al archivo evento.csv\n",
    "eventoRDD = spark.textFile(path+\"evento.csv\").map(lambda l : l.split(\",\"))\n",
    "\n",
    "# Pasando El RDD a la funcion creada para eliminar el encabezado.\n",
    "eventoRDD = eventoRDD.mapPartitionsWithIndex(eliminaEncabezado)\n",
    "\n",
    "# Transformando los valores del RDD.\n",
    "eventoRDD = eventoRDD.map(lambda l : (\n",
    "int(l[0]),\n",
    "l[1],\n",
    "l[2]\n",
    "))\n",
    "\n",
    "# Creando Schema para los campos del RDD.\n",
    "schema_eventoRDD = StructType([\n",
    "    StructField(\"id_evento\",IntegerType(),False),\n",
    "    StructField(\"tipo_evento\",StringType(),False),\n",
    "    StructField(\"id_deporte\",StringType(),False)\n",
    "])\n",
    "# Visualizando la transformación del Dataframe.\n",
    "eventoRDD = sqlContext.createDataFrame(eventoRDD,schema_eventoRDD)"
   ]
  },
  {
   "cell_type": "code",
   "execution_count": 19,
   "id": "62648569",
   "metadata": {},
   "outputs": [],
   "source": [
    "# Creando el Dataframes a partir de los RDD correspondiente al archivo juegos.csv\n",
    "juegosRDD = spark.textFile(path+\"juegos.csv\").map(lambda l : l.split(\",\"))\n",
    "\n",
    "# Pasando El RDD a la funcion creada para eliminar el encabezado\n",
    "juegosRDD = juegosRDD.mapPartitionsWithIndex(eliminaEncabezado)\n",
    "\n",
    "# Transformando los valores del RDD.\n",
    "juegosRDD = juegosRDD.map(lambda l : (\n",
    "int(l[0]),\n",
    "l[1],\n",
    "int(l[2]),\n",
    "l[3],\n",
    "l[4]\n",
    "))\n",
    "\n",
    "# Creando Schema para los campos del RDD.\n",
    "Schema_juegosRDD = StructType([\n",
    "    StructField(\"juego_id\", IntegerType(),False),\n",
    "    StructField(\"nombre_juego\", StringType(),False),\n",
    "    StructField(\"anio\", IntegerType(),False),\n",
    "    StructField(\"temporada\", StringType(),False),\n",
    "    StructField(\"ciudad\", StringType(),False)\n",
    "])\n",
    "\n",
    "# Visualizando la transformación del Dataframe.\n",
    "juegosRDD = sqlContext.createDataFrame(juegosRDD,Schema_juegosRDD)"
   ]
  },
  {
   "cell_type": "code",
   "execution_count": 20,
   "id": "42fa47e3",
   "metadata": {},
   "outputs": [],
   "source": [
    "# Creando el Dataframes a partir de los RDD correspondiente al archivo paises.csv\n",
    "paisesRDD = spark.textFile(path+\"paises.csv\").map(lambda l : l.split(\",\"))\n",
    "\n",
    "# Pasando El RDD a la funcion creada para eliminar el encabezado\n",
    "paisesRDD = paisesRDD.mapPartitionsWithIndex(eliminaEncabezado)\n",
    "\n",
    "# Transformando los valores del RDD.\n",
    "paisesRDD = paisesRDD.map(lambda l : (\n",
    "int(l[0]),\n",
    "l[1],\n",
    "l[2]\n",
    "))\n",
    "\n",
    "# Creando Schema para los campos del RDD.\n",
    "Schema_paisesRDD = StructType([\n",
    "    StructField(\"pais_id\", IntegerType(),False),\n",
    "    StructField(\"nombre_equipo\", StringType(),False),\n",
    "    StructField(\"sigla_equipo\", StringType(),False)\n",
    "])\n",
    "\n",
    "# Visualizando la transformación del Dataframe.\n",
    "paisesRDD = sqlContext.createDataFrame(paisesRDD,Schema_paisesRDD)"
   ]
  },
  {
   "cell_type": "code",
   "execution_count": 21,
   "id": "58abc91c",
   "metadata": {},
   "outputs": [],
   "source": [
    "# Creando el Dataframes a partir de los RDD correspondiente al archivo resultados.csv\n",
    "resultadosRDD = spark.textFile(path+\"resultados.csv\").map(lambda l : l.split(\",\"))\n",
    "\n",
    "# Pasando El RDD a la funcion creada para eliminar el encabezado\n",
    "resultadosRDD = resultadosRDD.mapPartitionsWithIndex(eliminaEncabezado)\n",
    "\n",
    "# Transformando los valores del RDD.\n",
    "resultadosRDD = resultadosRDD.map(lambda l : (\n",
    "int(l[0]),\n",
    "l[1],\n",
    "int(l[2]),\n",
    "int(l[3]),\n",
    "int(l[4])\n",
    "))\n",
    "\n",
    "# Creando Schema para los campos del RDD.\n",
    "schema_resultadosRDD = StructType([\n",
    "    StructField(\"resultado_id\",IntegerType(),False),\n",
    "    StructField(\"medalla\",StringType(),False),\n",
    "    StructField(\"deportista_id\",IntegerType(),False),\n",
    "    StructField(\"juego_id\",IntegerType(),False),\n",
    "    StructField(\"evento_id\",IntegerType(),False)\n",
    "])\n",
    "\n",
    "# Visualizando la transformación del Dataframe.\n",
    "resultadosRDD = sqlContext.createDataFrame(resultadosRDD,schema_resultadosRDD)"
   ]
  },
  {
   "cell_type": "code",
   "execution_count": 22,
   "id": "b9860d42",
   "metadata": {},
   "outputs": [
    {
     "name": "stdout",
     "output_type": "stream",
     "text": [
      "root\n",
      " |-- resultado_id: integer (nullable = false)\n",
      " |-- medalla: string (nullable = false)\n",
      " |-- deportista_id: integer (nullable = false)\n",
      " |-- juego_id: integer (nullable = false)\n",
      " |-- evento_id: integer (nullable = false)\n",
      "\n"
     ]
    }
   ],
   "source": [
    "# La funcion printschema() permite visualizar el esquema que tiene el DF.\n",
    "resultadosRDD.printSchema()"
   ]
  },
  {
   "cell_type": "code",
   "execution_count": 23,
   "id": "ded99046",
   "metadata": {},
   "outputs": [
    {
     "name": "stdout",
     "output_type": "stream",
     "text": [
      "root\n",
      " |-- resultado_id: integer (nullable = false)\n",
      " |-- medallota: string (nullable = false)\n",
      " |-- deportista_id: integer (nullable = false)\n",
      " |-- juego_id: integer (nullable = false)\n",
      " |-- evento_id: integer (nullable = false)\n",
      "\n"
     ]
    }
   ],
   "source": [
    "# La funcion withColumnRenamed(\"\",\"\").drop(\"\") permite borrar o renombrar columnas.\n",
    "resultadosRDD = resultadosRDD.withColumnRenamed(\"medalla\", \"medallota\")\n",
    "resultadosRDD.printSchema()"
   ]
  },
  {
   "cell_type": "code",
   "execution_count": 24,
   "id": "3d249702",
   "metadata": {},
   "outputs": [
    {
     "name": "stdout",
     "output_type": "stream",
     "text": [
      "+-------------+--------------------+-----------+---------+\n",
      "|deportista_id|              nombre|edadAlJugar|equipo_id|\n",
      "+-------------+--------------------+-----------+---------+\n",
      "|            1|           A Dijiang|         24|      199|\n",
      "|            2|            A Lamusi|         23|      199|\n",
      "|            3| Gunnar Nielsen Aaby|         24|      273|\n",
      "|            4|Edgar Lindenau Aabye|         34|      278|\n",
      "|            5|Christine Jacoba ...|         21|      705|\n",
      "+-------------+--------------------+-----------+---------+\n",
      "only showing top 5 rows\n",
      "\n"
     ]
    }
   ],
   "source": [
    "# Generando consultas con funcion select\n",
    "deportistaDF = deportistaDF.select(\"deportista_id\", \"nombre\", col(\"edad\").alias(\"edadAlJugar\"),\"equipo_id\")\n",
    "deportistaDF.show(5)"
   ]
  },
  {
   "cell_type": "code",
   "execution_count": 25,
   "id": "1d7481c0",
   "metadata": {},
   "outputs": [
    {
     "name": "stdout",
     "output_type": "stream",
     "text": [
      "+-------------+--------------------+-----------+---------+\n",
      "|deportista_id|              nombre|edadAlJugar|equipo_id|\n",
      "+-------------+--------------------+-----------+---------+\n",
      "|            1|           A Dijiang|         24|      199|\n",
      "|            2|            A Lamusi|         23|      199|\n",
      "|            3| Gunnar Nielsen Aaby|         24|      273|\n",
      "|            4|Edgar Lindenau Aabye|         34|      278|\n",
      "|            5|Christine Jacoba ...|         21|      705|\n",
      "+-------------+--------------------+-----------+---------+\n",
      "only showing top 5 rows\n",
      "\n"
     ]
    }
   ],
   "source": [
    "# Generando consultas con funcion filter\n",
    "deportistaDF = deportistaDF.filter(deportistaDF.edadAlJugar != 0)\n",
    "deportistaDF.show(5)"
   ]
  },
  {
   "cell_type": "code",
   "execution_count": 276,
   "id": "357b11de",
   "metadata": {},
   "outputs": [
    {
     "name": "stdout",
     "output_type": "stream",
     "text": [
      "+-------------+--------------------+-----------+---------+\n",
      "|deportista_id|              nombre|edadAlJugar|equipo_id|\n",
      "+-------------+--------------------+-----------+---------+\n",
      "|        52070|        Etsuko Inada|         11|      514|\n",
      "|        22411|Magdalena Cecilia...|         11|      413|\n",
      "|        40129|    Luigina Giavotti|         11|      507|\n",
      "|        47618|Sonja Henie Toppi...|         11|      742|\n",
      "|        37333|Carlos Bienvenido...|         11|      982|\n",
      "|        51268|      Beatrice Hutiu|         11|      861|\n",
      "|         5291|Marcia Arriaga La...|         12|      656|\n",
      "|        24191| Philippe Cuelenaere|         12|       96|\n",
      "|        42835|   Werner Grieshofer|         12|       71|\n",
      "|        25877|Olga Lucia de Ang...|         12|      225|\n",
      "|        31203|Patricia Anne Pat...|         12|      967|\n",
      "|        43528|Antoinette Joyce ...|         12|      172|\n",
      "|        46578|        Diana Hatler|         12|      825|\n",
      "|        48728|      Margery Hinton|         12|      413|\n",
      "|        49142|        Jan Hoffmann|         12|      302|\n",
      "|        59727|Marika Kilius Zah...|         12|      399|\n",
      "|        40296|    Alain C. Giletti|         12|      362|\n",
      "|        47506|        Hem Reaksmey|         12|      168|\n",
      "|        48939|             Ho Gang|         12|      738|\n",
      "|        54620|Belita Gladys Lyn...|         12|      413|\n",
      "+-------------+--------------------+-----------+---------+\n",
      "only showing top 20 rows\n",
      "\n"
     ]
    }
   ],
   "source": [
    "# Consultando el deportista mas joven de los juegos olimpicos\n",
    "deportistaDF.sort(\"edadAlJugar\").show()"
   ]
  },
  {
   "cell_type": "code",
   "execution_count": null,
   "id": "2e90a7c0",
   "metadata": {},
   "outputs": [],
   "source": [
    "# Creando consultas usando Join\n",
    "deportistaOlimpicoRDD join(resultadosRDD)"
   ]
  }
 ],
 "metadata": {
  "kernelspec": {
   "display_name": "Python 3",
   "language": "python",
   "name": "python3"
  },
  "language_info": {
   "codemirror_mode": {
    "name": "ipython",
    "version": 3
   },
   "file_extension": ".py",
   "mimetype": "text/x-python",
   "name": "python",
   "nbconvert_exporter": "python",
   "pygments_lexer": "ipython3",
   "version": "3.9.5"
  }
 },
 "nbformat": 4,
 "nbformat_minor": 5
}

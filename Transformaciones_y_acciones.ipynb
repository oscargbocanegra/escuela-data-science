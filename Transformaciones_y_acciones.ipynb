{
  "nbformat": 4,
  "nbformat_minor": 5,
  "metadata": {
    "kernelspec": {
      "display_name": "Python 3",
      "language": "python",
      "name": "python3"
    },
    "language_info": {
      "codemirror_mode": {
        "name": "ipython",
        "version": 3
      },
      "file_extension": ".py",
      "mimetype": "text/x-python",
      "name": "python",
      "nbconvert_exporter": "python",
      "pygments_lexer": "ipython3",
      "version": "3.9.5"
    },
    "colab": {
      "name": "Transformaciones_y_acciones.ipynb",
      "provenance": [],
      "include_colab_link": true
    }
  },
  "cells": [
    {
      "cell_type": "markdown",
      "metadata": {
        "id": "view-in-github",
        "colab_type": "text"
      },
      "source": [
        "<a href=\"https://colab.research.google.com/github/oscargbocanegra/escuela-data-science/blob/main/Transformaciones_y_acciones.ipynb\" target=\"_parent\"><img src=\"https://colab.research.google.com/assets/colab-badge.svg\" alt=\"Open In Colab\"/></a>"
      ]
    },
    {
      "cell_type": "code",
      "metadata": {
        "id": "4e13562f"
      },
      "source": [
        "#pip install pyspark\n",
        "from pyspark import SparkContext"
      ],
      "id": "4e13562f",
      "execution_count": null,
      "outputs": []
    },
    {
      "cell_type": "code",
      "metadata": {
        "id": "fdfe9f5a"
      },
      "source": [
        "sc = SparkContext(master=\"local\", appName=\"transformacionesyacciones\")"
      ],
      "id": "fdfe9f5a",
      "execution_count": null,
      "outputs": []
    },
    {
      "cell_type": "code",
      "metadata": {
        "colab": {
          "base_uri": "https://localhost:8080/"
        },
        "id": "a7712bae",
        "outputId": "aaa669e3-d0e5-4177-9a04-06e830698912"
      },
      "source": [
        "rdd1 = sc.parallelize([1,2,3])\n",
        "type(rdd1)"
      ],
      "id": "a7712bae",
      "execution_count": null,
      "outputs": [
        {
          "output_type": "execute_result",
          "data": {
            "text/plain": [
              "pyspark.rdd.RDD"
            ]
          },
          "metadata": {
            "tags": []
          },
          "execution_count": 7
        }
      ]
    },
    {
      "cell_type": "code",
      "metadata": {
        "colab": {
          "base_uri": "https://localhost:8080/"
        },
        "id": "961a5ee2",
        "outputId": "b6eb5a44-b6cf-4964-a63d-64e8789b3628"
      },
      "source": [
        "rdd1.collect()"
      ],
      "id": "961a5ee2",
      "execution_count": null,
      "outputs": [
        {
          "output_type": "execute_result",
          "data": {
            "text/plain": [
              "[1, 2, 3]"
            ]
          },
          "metadata": {
            "tags": []
          },
          "execution_count": 8
        }
      ]
    },
    {
      "cell_type": "code",
      "metadata": {
        "colab": {
          "base_uri": "https://localhost:8080/"
        },
        "id": "099a5b25",
        "outputId": "09b34825-4272-468c-8e83-9c9cdd049920"
      },
      "source": [
        "# Consultando la ruta de archivos para crear los RDD\n",
        "#!ls /home/jovyan/work/curso-apache-spark-platzi/files\n",
        "!ls /content/sample_data/"
      ],
      "id": "099a5b25",
      "execution_count": 10,
      "outputs": [
        {
          "output_type": "stream",
          "text": [
            "anscombe.json\t\t      mnist_test.csv\t     README.md\n",
            "california_housing_test.csv   mnist_train_small.csv\n",
            "california_housing_train.csv  paises.csv\n"
          ],
          "name": "stdout"
        }
      ]
    },
    {
      "cell_type": "code",
      "metadata": {
        "id": "cc678038"
      },
      "source": [
        "# Creando un path con la ruta de los aarchivos para cargar los RDD.\n",
        "path = \"/content/sample_data/\"\n",
        "\n",
        "#Creando el primer RDD usando textfile para cargar los datos del archivo.\n",
        "equiposOlimpicosRDD = sc.textFile(path+\"paises.csv\") \\\n",
        "    .map(lambda line : line.split(\",\"))"
      ],
      "id": "cc678038",
      "execution_count": 11,
      "outputs": []
    },
    {
      "cell_type": "code",
      "metadata": {
        "id": "f409ca13",
        "colab": {
          "base_uri": "https://localhost:8080/"
        },
        "outputId": "7561dc35-bf7e-4f7a-e865-f82ae39035bb"
      },
      "source": [
        "#opcion take para mostrar la cantidad de lineas.\n",
        "equiposOlimpicosRDD.take(5)"
      ],
      "id": "f409ca13",
      "execution_count": 12,
      "outputs": [
        {
          "output_type": "execute_result",
          "data": {
            "text/plain": [
              "[['id', 'equipo', 'sigla'],\n",
              " ['1', '30. Februar', 'AUT'],\n",
              " ['2', 'A North American Team', 'MEX'],\n",
              " ['3', 'Acipactli', 'MEX'],\n",
              " ['4', 'Acturus', 'ARG']]"
            ]
          },
          "metadata": {
            "tags": []
          },
          "execution_count": 12
        }
      ]
    },
    {
      "cell_type": "code",
      "metadata": {
        "id": "d8001f70"
      },
      "source": [
        "# finalizando el contexto\n",
        "sc.stop()"
      ],
      "id": "d8001f70",
      "execution_count": 13,
      "outputs": []
    }
  ]
}
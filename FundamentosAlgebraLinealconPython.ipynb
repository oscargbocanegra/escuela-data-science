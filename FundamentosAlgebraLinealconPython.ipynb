{
  "nbformat": 4,
  "nbformat_minor": 0,
  "metadata": {
    "colab": {
      "name": "FundamentosAlgebraLinealconPython.ipynb",
      "provenance": [],
      "collapsed_sections": [],
      "authorship_tag": "ABX9TyPyl+pzbtzRJU6dqHrMojbm",
      "include_colab_link": true
    },
    "kernelspec": {
      "name": "python3",
      "display_name": "Python 3"
    },
    "language_info": {
      "name": "python"
    }
  },
  "cells": [
    {
      "cell_type": "markdown",
      "metadata": {
        "id": "view-in-github",
        "colab_type": "text"
      },
      "source": [
        "<a href=\"https://colab.research.google.com/github/oscargbocanegra/escuela-data-science/blob/main/FundamentosAlgebraLinealconPython.ipynb\" target=\"_parent\"><img src=\"https://colab.research.google.com/assets/colab-badge.svg\" alt=\"Open In Colab\"/></a>"
      ]
    },
    {
      "cell_type": "markdown",
      "metadata": {
        "id": "8SJkrl_MCs_Z"
      },
      "source": [
        "---\n",
        "Clase 1 - Creando las bases, escalares, vectores y matrices \n",
        "* ¿Que es un escalar?=> Puede ser un entero, flotante, estring\n",
        "* ¿Que es un vector? => Es un conjunto de numeros.\n",
        "* ¿Que es un tensor? => Es el grado de libertad que tienen las matrices 1 -> n\n",
        "\n",
        "---"
      ]
    },
    {
      "cell_type": "code",
      "metadata": {
        "id": "oaaxdLjWEFzE"
      },
      "source": [
        "# Imprimiendo un escalar.\n",
        "escalar = 5.678\n",
        "print(escalar)\n",
        "escalar_python = True\n",
        "print(escalar_python)\n",
        "print(type(escalar_python))"
      ],
      "execution_count": null,
      "outputs": []
    },
    {
      "cell_type": "code",
      "metadata": {
        "id": "NZF3UQwwFG7X"
      },
      "source": [
        "import numpy as np\n",
        "# Creando vectores\n",
        "vector = np.array([1,2,3,4])\n",
        "print(vector)"
      ],
      "execution_count": null,
      "outputs": []
    },
    {
      "cell_type": "code",
      "metadata": {
        "id": "E8hyoP23GOX5"
      },
      "source": [
        "import numpy as np\n",
        "# Creando una matriz de 3X3\n",
        "matriz = np.array([[1,2,3],[4,5,6],[7,8,9]])\n",
        "print(matriz)\n",
        "\n",
        "# Creando un tensor 1 elemento mas que la matriz.\n",
        "tensor = np.array"
      ],
      "execution_count": null,
      "outputs": []
    },
    {
      "cell_type": "code",
      "metadata": {
        "id": "988-NRiZGWWj"
      },
      "source": [
        "import numpy as np\n",
        "# Creando un tensor 1 elemento mas que la matriz.\n",
        "tensor = np.array([\n",
        "                   [[45,65,71],[34,65,86],[27,98,59]],\n",
        "                   [[10,11,12],[13,14,15],[16,17,18]],\n",
        "                   [[19,20,21],[22,23,24],[25,26,27]],\n",
        "])\n",
        "print(tensor)"
      ],
      "execution_count": null,
      "outputs": []
    },
    {
      "cell_type": "code",
      "metadata": {
        "colab": {
          "base_uri": "https://localhost:8080/",
          "height": 287
        },
        "id": "xfwsZEkGHTSV",
        "outputId": "f2fef920-d2be-47e1-fc0d-ff330cb5200d"
      },
      "source": [
        "#Graficando el contenido del tensor.\n",
        "%matplotlib inline\n",
        "import matplotlib.pyplot as plt\n",
        "plt.imshow(tensor, interpolation = 'nearest')"
      ],
      "execution_count": null,
      "outputs": [
        {
          "output_type": "execute_result",
          "data": {
            "text/plain": [
              "<matplotlib.image.AxesImage at 0x7fc56056d650>"
            ]
          },
          "metadata": {
            "tags": []
          },
          "execution_count": 17
        },
        {
          "output_type": "display_data",
          "data": {
            "image/png": "[encoded data removed]",
            "text/plain": [
              "<Figure size 432x288 with 1 Axes>"
            ]
          },
          "metadata": {
            "tags": [],
            "needs_background": "light"
          }
        }
      ]
    },
    {
      "cell_type": "markdown",
      "metadata": {
        "id": "kOCPOyIvIImV"
      },
      "source": [
        "---\n",
        "Clase 2 - Dimension de un escalar, vector, matriz o tensor.\n",
        "<br>\n",
        "|X1 X2|  |Y1| <br>\n",
        "|X3 X4|  |Y2|\n",
        "\n",
        "---\n"
      ]
    },
    {
      "cell_type": "code",
      "metadata": {
        "id": "IX8Jh6TbIQps"
      },
      "source": [
        "# SHAPE - LEN - funcion para validar las dimensiones.\n",
        "import numpy as np\n",
        "escalar = 5.679\n",
        "vector = np.array([1,2,3])\n",
        "matriz = np.array([[1,2],[3,4]])\n",
        "tensor = np.array([\n",
        "                   [[45,65,71],[34,65,86],[27,98,59]],\n",
        "                   [[10,11,12],[13,14,15],[16,17,18]],\n",
        "                   [[19,20,21],[22,23,24],[25,26,27]],\n",
        "])\n",
        "#dimension para un escalar\n",
        "#print(escalar.shape) - No tiene dimensión\n",
        "#dimension de un vector\n",
        "print(vector.shape)\n",
        "#Tamaño de un vector\n",
        "print(len(vector))\n",
        "\n",
        "#dimension de una matriz\n",
        "print(matriz.shape)\n",
        "#Tamaño de una matriz\n",
        "print(len(matriz))\n",
        "\n",
        "#dimension de un tensor\n",
        "print(tensor.shape)\n",
        "#Tamaño de un tensor\n",
        "print(len(tensor))"
      ],
      "execution_count": null,
      "outputs": []
    },
    {
      "cell_type": "markdown",
      "metadata": {
        "id": "VIR9et-ZMm6D"
      },
      "source": [
        "---\n",
        "Clase 3 - Transposicion, suma de matrices escalares.\n",
        "\n",
        "---"
      ]
    },
    {
      "cell_type": "code",
      "metadata": {
        "id": "DcB5KuYVMutX"
      },
      "source": [
        "# Transponer vectores con matrices - filas por columnas T ==> -T\n",
        "import numpy as np\n",
        "vector = np.array([1,2,3])\n",
        "print(vector)\n",
        "# Transpuesta de un vector\n",
        "vector_t = vector.T\n",
        "print(vector_t)\n",
        "\n",
        "# Transpuesta de una matriz.\n",
        "matriz = np.array([[[1,2],[3,4],[5,6]],\n",
        "                  [[7,8],[9,0],[10,11]],\n",
        "                  ])\n",
        "print(matriz)\n",
        "matriz_t = matriz.T\n",
        "print(matriz_t)\n",
        "\n",
        "# Transpuesta de un tensor.\n",
        "tensor = np.array([\n",
        "                   [[45,65,71],[34,65,86],[27,98,59]],\n",
        "                   [[10,11,12],[13,14,15],[16,17,18]],\n",
        "                   [[19,20,21],[22,23,24],[25,26,27]],\n",
        "])\n",
        "print(tensor)\n",
        "tensor_t = tensor.T\n",
        "print(tensor_t)"
      ],
      "execution_count": null,
      "outputs": []
    },
    {
      "cell_type": "code",
      "metadata": {
        "id": "fehJKGL4PIPY"
      },
      "source": [
        "#Suma de matrices.\n",
        "A = np.array([[1,2],[3,4],[5,6]])\n",
        "B = np.array([[6,5],[4,3],[2,1]])\n",
        "C = A+B\n",
        "print(A)\n",
        "print(B)\n",
        "print(C)\n",
        "# Suma de matriz con un escalar.\n",
        "D = A + escalar\n",
        "print(D)"
      ],
      "execution_count": null,
      "outputs": []
    },
    {
      "cell_type": "markdown",
      "metadata": {
        "id": "2dLuC7ljcDII"
      },
      "source": [
        "---\n",
        "Clase 4.  Suma de Matrices y Vectores (broadcasting)\n",
        "<br>\n",
        "Extencion de la matriz de menor tamaño para completar la que tiene menor tamaño y poder realizar la suma. Esto se hace con la matriz transpuesta (T)\n",
        "\n",
        "---"
      ]
    },
    {
      "cell_type": "code",
      "metadata": {
        "id": "mrr8huwHckyF"
      },
      "source": [
        "# Sumatoria de matriz usando broadcasting - T\n",
        "import numpy as np\n",
        "escalar = 5.679\n",
        "vector = np.array([1,2,3])\n",
        "matriz = np.array([[1,2],[3,4],[5,6]])\n",
        "\n",
        "# Esto no funciona por que la matriz tiene diferente tamaño.\n",
        "A = vector + matriz\n",
        "print(A)"
      ],
      "execution_count": null,
      "outputs": []
    },
    {
      "cell_type": "code",
      "metadata": {
        "colab": {
          "base_uri": "https://localhost:8080/"
        },
        "id": "AFocrgsvcLoQ",
        "outputId": "3875158c-bb54-4303-bd46-04bafa53764f"
      },
      "source": [
        "# Solucion con la matriz transpuesta.\n",
        "B = matriz.T + vector\n",
        "print (B)"
      ],
      "execution_count": null,
      "outputs": [
        {
          "output_type": "stream",
          "text": [
            "[[2 5 8]\n",
            " [3 6 9]]\n"
          ],
          "name": "stdout"
        }
      ]
    },
    {
      "cell_type": "markdown",
      "metadata": {
        "id": "cENNB5SSea9c"
      },
      "source": [
        "---\n",
        "Clase Producto entre una matriz y un vector.\n",
        "\n",
        "\n",
        "---"
      ]
    },
    {
      "cell_type": "code",
      "metadata": {
        "id": "Dv8GYoAde9iB"
      },
      "source": [
        "# Importando elementos a utilizar\n",
        "import numpy as np\n",
        "escalar = 5.679\n",
        "vector = np.array([2,3])\n",
        "matriz = np.array([[1,2],[3,4],[5,6]])"
      ],
      "execution_count": null,
      "outputs": []
    },
    {
      "cell_type": "code",
      "metadata": {
        "colab": {
          "base_uri": "https://localhost:8080/"
        },
        "id": "I5KJorF0fHT5",
        "outputId": "5d4cb91a-d4f6-4718-c85f-f27bd6058f1c"
      },
      "source": [
        "# Multiplicando la matriz por un vector\n",
        "A = matriz * vector\n",
        "print (A)"
      ],
      "execution_count": null,
      "outputs": [
        {
          "output_type": "stream",
          "text": [
            "[[ 2  6]\n",
            " [ 6 12]\n",
            " [10 18]]\n"
          ],
          "name": "stdout"
        }
      ]
    },
    {
      "cell_type": "code",
      "metadata": {
        "colab": {
          "base_uri": "https://localhost:8080/"
        },
        "id": "HXeUr6Cifjke",
        "outputId": "0c8268c9-84a8-464c-dade-451abdd1bf31"
      },
      "source": [
        "# Realizando el producto interno bruto\n",
        "B = matriz.dot(vector)\n",
        "print (B)"
      ],
      "execution_count": null,
      "outputs": [
        {
          "output_type": "stream",
          "text": [
            "[ 8 18 28]\n"
          ],
          "name": "stdout"
        }
      ]
    },
    {
      "cell_type": "markdown",
      "metadata": {
        "id": "fidxxytUho1x"
      },
      "source": [
        "---\n",
        "Clase - Producto Internno entre 2 matrices.\n",
        "\n",
        "---"
      ]
    },
    {
      "cell_type": "code",
      "metadata": {
        "colab": {
          "base_uri": "https://localhost:8080/"
        },
        "id": "fstM16Yoh00D",
        "outputId": "7d6e2052-9b5e-44ef-dd01-980be8caf3ff"
      },
      "source": [
        "# Importando elementos a utilizar\n",
        "import numpy as np\n",
        "A = np.array([[1,2,3],[4,5,6],[7,8,9],[10,11,12]])\n",
        "B = np.array([[2,3],[5,7],[11,13]])\n",
        "# Imprimiendo dimension de la matriz\n",
        "print(A.shape)\n",
        "print(B.shape)"
      ],
      "execution_count": 12,
      "outputs": [
        {
          "output_type": "stream",
          "text": [
            "(4, 3)\n",
            "(3, 2)\n"
          ],
          "name": "stdout"
        }
      ]
    },
    {
      "cell_type": "code",
      "metadata": {
        "colab": {
          "base_uri": "https://localhost:8080/"
        },
        "id": "miiGYzjvinC9",
        "outputId": "1385d33c-2ab7-4414-d18a-ab419c2609b2"
      },
      "source": [
        "# Para una matriz de dimencion (4,3) Se multiplica las filas de A con las columnas (3Fx3C)\n",
        "C = A.dot(B)\n",
        "print(C)"
      ],
      "execution_count": 14,
      "outputs": [
        {
          "output_type": "stream",
          "text": [
            "[[ 45  56]\n",
            " [ 99 125]\n",
            " [153 194]\n",
            " [207 263]]\n"
          ],
          "name": "stdout"
        }
      ]
    },
    {
      "cell_type": "code",
      "metadata": {
        "id": "hLLjVfJ2jbfk"
      },
      "source": [
        "# Para una matriz de dimencion (3,2) Se multiplica las filas de A con las columnas No coinciden las ddimenciones (2Fx4C)\n",
        "D = B.dot(A)"
      ],
      "execution_count": null,
      "outputs": []
    },
    {
      "cell_type": "code",
      "metadata": {
        "id": "ZN706zbpjonY"
      },
      "source": [
        ""
      ],
      "execution_count": null,
      "outputs": []
    }
  ]
}
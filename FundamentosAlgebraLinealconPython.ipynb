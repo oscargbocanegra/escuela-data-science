{
  "nbformat": 4,
  "nbformat_minor": 0,
  "metadata": {
    "colab": {
      "name": "FundamentosAlgebraLinealconPython.ipynb",
      "provenance": [],
      "collapsed_sections": [],
      "authorship_tag": "ABX9TyPGnX75Mh4kPkn93bpam7tV",
      "include_colab_link": true
    },
    "kernelspec": {
      "name": "python3",
      "display_name": "Python 3"
    },
    "language_info": {
      "name": "python"
    }
  },
  "cells": [
    {
      "cell_type": "markdown",
      "metadata": {
        "id": "view-in-github",
        "colab_type": "text"
      },
      "source": [
        "<a href=\"https://colab.research.google.com/github/oscargbocanegra/escuela-data-science/blob/main/FundamentosAlgebraLinealconPython.ipynb\" target=\"_parent\"><img src=\"https://colab.research.google.com/assets/colab-badge.svg\" alt=\"Open In Colab\"/></a>"
      ]
    },
    {
      "cell_type": "markdown",
      "metadata": {
        "id": "8SJkrl_MCs_Z"
      },
      "source": [
        "---\n",
        "Clase 1 - Creando las bases, escalares, vectores y matrices \n",
        "* ¿Que es un escalar?=> Puede ser un entero, flotante, estring\n",
        "* ¿Que es un vector? => Es un conjunto de numeros.\n",
        "* ¿Que es un tensor? => Es el grado de libertad que tienen las matrices 1 -> n\n",
        "\n",
        "---"
      ]
    },
    {
      "cell_type": "code",
      "metadata": {
        "id": "oaaxdLjWEFzE"
      },
      "source": [
        "# Imprimiendo un escalar.\n",
        "escalar = 5.678\n",
        "print(escalar)\n",
        "escalar_python = True\n",
        "print(escalar_python)\n",
        "print(type(escalar_python))"
      ],
      "execution_count": null,
      "outputs": []
    },
    {
      "cell_type": "code",
      "metadata": {
        "id": "NZF3UQwwFG7X"
      },
      "source": [
        "import numpy as np\n",
        "# Creando vectores\n",
        "vector = np.array([1,2,3,4])\n",
        "print(vector)"
      ],
      "execution_count": null,
      "outputs": []
    },
    {
      "cell_type": "code",
      "metadata": {
        "id": "E8hyoP23GOX5"
      },
      "source": [
        "import numpy as np\n",
        "# Creando una matriz de 3X3\n",
        "matriz = np.array([[1,2,3],[4,5,6],[7,8,9]])\n",
        "print(matriz)\n",
        "\n",
        "# Creando un tensor 1 elemento mas que la matriz.\n",
        "tensor = np.array"
      ],
      "execution_count": null,
      "outputs": []
    },
    {
      "cell_type": "code",
      "metadata": {
        "id": "988-NRiZGWWj"
      },
      "source": [
        "import numpy as np\n",
        "# Creando un tensor 1 elemento mas que la matriz.\n",
        "tensor = np.array([\n",
        "                   [[45,65,71],[34,65,86],[27,98,59]],\n",
        "                   [[10,11,12],[13,14,15],[16,17,18]],\n",
        "                   [[19,20,21],[22,23,24],[25,26,27]],\n",
        "])\n",
        "print(tensor)"
      ],
      "execution_count": null,
      "outputs": []
    },
    {
      "cell_type": "code",
      "metadata": {
        "colab": {
          "base_uri": "https://localhost:8080/",
          "height": 287
        },
        "id": "xfwsZEkGHTSV",
        "outputId": "f2fef920-d2be-47e1-fc0d-ff330cb5200d"
      },
      "source": [
        "#Graficando el contenido del tensor.\n",
        "%matplotlib inline\n",
        "import matplotlib.pyplot as plt\n",
        "plt.imshow(tensor, interpolation = 'nearest')"
      ],
      "execution_count": null,
      "outputs": [
        {
          "output_type": "execute_result",
          "data": {
            "text/plain": [
              "<matplotlib.image.AxesImage at 0x7fc56056d650>"
            ]
          },
          "metadata": {
            "tags": []
          },
          "execution_count": 17
        },
        {
          "output_type": "display_data",
          "data": {
            "image/png": "[encoded data removed]",
            "text/plain": [
              "<Figure size 432x288 with 1 Axes>"
            ]
          },
          "metadata": {
            "tags": [],
            "needs_background": "light"
          }
        }
      ]
    },
    {
      "cell_type": "markdown",
      "metadata": {
        "id": "kOCPOyIvIImV"
      },
      "source": [
        "---\n",
        "Clase 2 - Dimension de un escalar, vector, matriz o tensor.\n",
        "<br>\n",
        "|X1 X2|  |Y1| <br>\n",
        "|X3 X4|  |Y2|\n",
        "\n",
        "---\n"
      ]
    },
    {
      "cell_type": "code",
      "metadata": {
        "id": "IX8Jh6TbIQps"
      },
      "source": [
        "# SHAPE - LEN - funcion para validar las dimensiones.\n",
        "import numpy as np\n",
        "escalar = 5.679\n",
        "vector = np.array([1,2,3])\n",
        "matriz = np.array([[1,2],[3,4]])\n",
        "tensor = np.array([\n",
        "                   [[45,65,71],[34,65,86],[27,98,59]],\n",
        "                   [[10,11,12],[13,14,15],[16,17,18]],\n",
        "                   [[19,20,21],[22,23,24],[25,26,27]],\n",
        "])\n",
        "#dimension para un escalar\n",
        "#print(escalar.shape) - No tiene dimensión\n",
        "#dimension de un vector\n",
        "print(vector.shape)\n",
        "#Tamaño de un vector\n",
        "print(len(vector))\n",
        "\n",
        "#dimension de una matriz\n",
        "print(matriz.shape)\n",
        "#Tamaño de una matriz\n",
        "print(len(matriz))\n",
        "\n",
        "#dimension de un tensor\n",
        "print(tensor.shape)\n",
        "#Tamaño de un tensor\n",
        "print(len(tensor))"
      ],
      "execution_count": null,
      "outputs": []
    },
    {
      "cell_type": "markdown",
      "metadata": {
        "id": "VIR9et-ZMm6D"
      },
      "source": [
        "---\n",
        "Clase 3 - Transposicion, suma de matrices escalares.\n",
        "\n",
        "---"
      ]
    },
    {
      "cell_type": "code",
      "metadata": {
        "id": "DcB5KuYVMutX"
      },
      "source": [
        "# Transponer vectores con matrices - filas por columnas T ==> -T\n",
        "import numpy as np\n",
        "vector = np.array([1,2,3])\n",
        "print(vector)\n",
        "# Transpuesta de un vector\n",
        "vector_t = vector.T\n",
        "print(vector_t)\n",
        "\n",
        "# Transpuesta de una matriz.\n",
        "matriz = np.array([[[1,2],[3,4],[5,6]],\n",
        "                  [[7,8],[9,0],[10,11]],\n",
        "                  ])\n",
        "print(matriz)\n",
        "matriz_t = matriz.T\n",
        "print(matriz_t)\n",
        "\n",
        "# Transpuesta de un tensor.\n",
        "tensor = np.array([\n",
        "                   [[45,65,71],[34,65,86],[27,98,59]],\n",
        "                   [[10,11,12],[13,14,15],[16,17,18]],\n",
        "                   [[19,20,21],[22,23,24],[25,26,27]],\n",
        "])\n",
        "print(tensor)\n",
        "tensor_t = tensor.T\n",
        "print(tensor_t)"
      ],
      "execution_count": null,
      "outputs": []
    },
    {
      "cell_type": "code",
      "metadata": {
        "id": "fehJKGL4PIPY"
      },
      "source": [
        "#Suma de matrices.\n",
        "A = np.array([[1,2],[3,4],[5,6]])\n",
        "B = np.array([[6,5],[4,3],[2,1]])\n",
        "C = A+B\n",
        "print(A)\n",
        "print(B)\n",
        "print(C)\n",
        "# Suma de matriz con un escalar.\n",
        "D = A + escalar\n",
        "print(D)"
      ],
      "execution_count": null,
      "outputs": []
    },
    {
      "cell_type": "markdown",
      "metadata": {
        "id": "2dLuC7ljcDII"
      },
      "source": [
        "---\n",
        "Clase 4.  Suma de Matrices y Vectores (broadcasting)\n",
        "<br>\n",
        "Extencion de la matriz de menor tamaño para completar la que tiene menor tamaño y poder realizar la suma. Esto se hace con la matriz transpuesta (T)\n",
        "\n",
        "---"
      ]
    },
    {
      "cell_type": "code",
      "metadata": {
        "id": "mrr8huwHckyF"
      },
      "source": [
        "# Sumatoria de matriz usando broadcasting - T\n",
        "import numpy as np\n",
        "escalar = 5.679\n",
        "vector = np.array([1,2,3])\n",
        "matriz = np.array([[1,2],[3,4],[5,6]])\n",
        "\n",
        "# Esto no funciona por que la matriz tiene diferente tamaño.\n",
        "A = vector + matriz\n",
        "print(A)"
      ],
      "execution_count": null,
      "outputs": []
    },
    {
      "cell_type": "code",
      "metadata": {
        "colab": {
          "base_uri": "https://localhost:8080/"
        },
        "id": "AFocrgsvcLoQ",
        "outputId": "3875158c-bb54-4303-bd46-04bafa53764f"
      },
      "source": [
        "# Solucion con la matriz transpuesta.\n",
        "B = matriz.T + vector\n",
        "print (B)"
      ],
      "execution_count": null,
      "outputs": [
        {
          "output_type": "stream",
          "text": [
            "[[2 5 8]\n",
            " [3 6 9]]\n"
          ],
          "name": "stdout"
        }
      ]
    },
    {
      "cell_type": "markdown",
      "metadata": {
        "id": "cENNB5SSea9c"
      },
      "source": [
        "---\n",
        "Clase Producto entre una matriz y un vector.\n",
        "\n",
        "\n",
        "---"
      ]
    },
    {
      "cell_type": "code",
      "metadata": {
        "id": "Dv8GYoAde9iB"
      },
      "source": [
        "# Importando elementos a utilizar\n",
        "import numpy as np\n",
        "escalar = 5.679\n",
        "vector = np.array([2,3])\n",
        "matriz = np.array([[1,2],[3,4],[5,6]])"
      ],
      "execution_count": null,
      "outputs": []
    },
    {
      "cell_type": "code",
      "metadata": {
        "colab": {
          "base_uri": "https://localhost:8080/"
        },
        "id": "I5KJorF0fHT5",
        "outputId": "5d4cb91a-d4f6-4718-c85f-f27bd6058f1c"
      },
      "source": [
        "# Multiplicando la matriz por un vector\n",
        "A = matriz * vector\n",
        "print (A)"
      ],
      "execution_count": null,
      "outputs": [
        {
          "output_type": "stream",
          "text": [
            "[[ 2  6]\n",
            " [ 6 12]\n",
            " [10 18]]\n"
          ],
          "name": "stdout"
        }
      ]
    },
    {
      "cell_type": "code",
      "metadata": {
        "colab": {
          "base_uri": "https://localhost:8080/"
        },
        "id": "HXeUr6Cifjke",
        "outputId": "0c8268c9-84a8-464c-dade-451abdd1bf31"
      },
      "source": [
        "# Realizando el producto interno bruto\n",
        "B = matriz.dot(vector)\n",
        "print (B)"
      ],
      "execution_count": null,
      "outputs": [
        {
          "output_type": "stream",
          "text": [
            "[ 8 18 28]\n"
          ],
          "name": "stdout"
        }
      ]
    },
    {
      "cell_type": "markdown",
      "metadata": {
        "id": "fidxxytUho1x"
      },
      "source": [
        "---\n",
        "Clase - Producto Internno entre 2 matrices.\n",
        "\n",
        "---"
      ]
    },
    {
      "cell_type": "code",
      "metadata": {
        "colab": {
          "base_uri": "https://localhost:8080/"
        },
        "id": "fstM16Yoh00D",
        "outputId": "7d6e2052-9b5e-44ef-dd01-980be8caf3ff"
      },
      "source": [
        "# Importando elementos a utilizar\n",
        "import numpy as np\n",
        "A = np.array([[1,2,3],[4,5,6],[7,8,9],[10,11,12]])\n",
        "B = np.array([[2,3],[5,7],[11,13]])\n",
        "# Imprimiendo dimension de la matriz\n",
        "print(A.shape)\n",
        "print(B.shape)"
      ],
      "execution_count": 12,
      "outputs": [
        {
          "output_type": "stream",
          "text": [
            "(4, 3)\n",
            "(3, 2)\n"
          ],
          "name": "stdout"
        }
      ]
    },
    {
      "cell_type": "code",
      "metadata": {
        "id": "miiGYzjvinC9"
      },
      "source": [
        "# Para una matriz de dimencion (4,3) Se multiplica las filas de A con las columnas (3Fx3C)\n",
        "C = A.dot(B)\n",
        "print(C)"
      ],
      "execution_count": null,
      "outputs": []
    },
    {
      "cell_type": "code",
      "metadata": {
        "id": "hLLjVfJ2jbfk"
      },
      "source": [
        "# Para una matriz de dimencion (3,2) Se multiplica las filas de A con las columnas No coinciden las ddimenciones (2Fx4C)\n",
        "D = B.dot(A)"
      ],
      "execution_count": null,
      "outputs": []
    },
    {
      "cell_type": "markdown",
      "metadata": {
        "id": "9X8mz5lYrhGr"
      },
      "source": [
        "---\n",
        "Clase Propiedades de las matrices.\n",
        "Multiplicacion de matrices, Asociativa, Distributiva, conmutativa\n",
        "\n",
        "---"
      ]
    },
    {
      "cell_type": "code",
      "metadata": {
        "id": "0iAAuOfkmjJV"
      },
      "source": [
        "# Importando elementos a utilizar\n",
        "import numpy as np\n",
        "A = np.array([[2,3],[5,6],[8,9]])\n",
        "B = np.array([[1,3],[2,1]])\n",
        "C = np.array([[3,1],[4,2]])"
      ],
      "execution_count": 25,
      "outputs": []
    },
    {
      "cell_type": "code",
      "metadata": {
        "colab": {
          "base_uri": "https://localhost:8080/"
        },
        "id": "FX7ms09Pm5v7",
        "outputId": "059763b4-1a71-4fab-8d78-eb7c2ff64fdd"
      },
      "source": [
        "# Asociativa.\n",
        "ABC = A.dot(B.dot(C))\n",
        "print(ABC)"
      ],
      "execution_count": 26,
      "outputs": [
        {
          "output_type": "stream",
          "text": [
            "[[ 60  26]\n",
            " [135  59]\n",
            " [210  92]]\n"
          ],
          "name": "stdout"
        }
      ]
    },
    {
      "cell_type": "code",
      "metadata": {
        "colab": {
          "base_uri": "https://localhost:8080/"
        },
        "id": "26kgoFFInHaj",
        "outputId": "a303523f-3bcf-47bd-a8b2-ef311a072f8e"
      },
      "source": [
        "# Distributiva.\n",
        "D = A.dot(B+C)\n",
        "E = (A.dot(B)) + (A.dot(C))\n",
        "print(\"Matriz D\")\n",
        "print(D)\n",
        "print(\"Matriz E\")\n",
        "print(E)\n",
        "print(\"Validando Igualdad\")\n",
        "print(D==E)"
      ],
      "execution_count": 27,
      "outputs": [
        {
          "output_type": "stream",
          "text": [
            "Matriz D\n",
            "[[26 17]\n",
            " [56 38]\n",
            " [86 59]]\n",
            "Matriz E\n",
            "[[26 17]\n",
            " [56 38]\n",
            " [86 59]]\n",
            "Validando Igualdad\n",
            "[[ True  True]\n",
            " [ True  True]\n",
            " [ True  True]]\n"
          ],
          "name": "stdout"
        }
      ]
    },
    {
      "cell_type": "code",
      "metadata": {
        "colab": {
          "base_uri": "https://localhost:8080/"
        },
        "id": "uftfjRNooNEn",
        "outputId": "2674ff85-b615-4599-9e3e-6b547e09ed15"
      },
      "source": [
        "# Conmutativa.\n",
        "F = B.dot(C)\n",
        "G = C.dot(B)\n",
        "print(F)\n",
        "print(G)\n",
        "# No es conmutativa.\n",
        "print(F==G)"
      ],
      "execution_count": 28,
      "outputs": [
        {
          "output_type": "stream",
          "text": [
            "[[15  7]\n",
            " [10  4]]\n",
            "[[ 5 10]\n",
            " [ 8 14]]\n",
            "[[False False]\n",
            " [False False]]\n"
          ],
          "name": "stdout"
        }
      ]
    },
    {
      "cell_type": "code",
      "metadata": {
        "id": "L_Lx3eoWomfz"
      },
      "source": [
        "# La multiplicacion de vectores si es conmutativa\n",
        "v1 = np.array([[2],[7]])\n",
        "v2 = np.array([[3],[5]])\n",
        "# Calculando vectores con transpuesta y producto interno.\n",
        "v1_tv2 = v1.T.dot(v2)\n",
        "v2_tv1 = v2.T.dot(v1)\n",
        "# Imprimiendo.\n",
        "print(v1_tv2)\n",
        "print(v2_tv1)"
      ],
      "execution_count": null,
      "outputs": []
    },
    {
      "cell_type": "markdown",
      "metadata": {
        "id": "8tikNMR7qqyf"
      },
      "source": [
        "---\n",
        "Clase Tranposición de matrices.<br>\n",
        "(AB)t = Bt At  <br>\n",
        "(AB)tt = A B\n",
        "\n",
        "---"
      ]
    },
    {
      "cell_type": "code",
      "metadata": {
        "id": "VI_7kq1CqkrX"
      },
      "source": [
        "# Importando elementos a utilizar\n",
        "import numpy as np\n",
        "A = np.array([[2,3],[5,7],[11,13]])\n",
        "B = np.array([[1,3],[2,1]])"
      ],
      "execution_count": 32,
      "outputs": []
    },
    {
      "cell_type": "code",
      "metadata": {
        "colab": {
          "base_uri": "https://localhost:8080/"
        },
        "id": "9I5Kqew9n0NX",
        "outputId": "b99a6bcd-9a0b-4e06-8756-56d887a5255a"
      },
      "source": [
        "# Calculando AB Transpuesta.\n",
        "AB_t = A.dot(B).T\n",
        "print(AB_t)"
      ],
      "execution_count": 33,
      "outputs": [
        {
          "output_type": "stream",
          "text": [
            "[[ 8 19 37]\n",
            " [ 9 22 46]]\n"
          ],
          "name": "stdout"
        }
      ]
    },
    {
      "cell_type": "code",
      "metadata": {
        "colab": {
          "base_uri": "https://localhost:8080/"
        },
        "id": "VbQ31K28sLJy",
        "outputId": "7ffab50a-a1e9-4044-d040-9c89d262dbdd"
      },
      "source": [
        "# Calculando B Transpuesta.\n",
        "B_tA_t = B.T.dot(A.T)\n",
        "print(B_tA_t)"
      ],
      "execution_count": 35,
      "outputs": [
        {
          "output_type": "stream",
          "text": [
            "[[ 8 19 37]\n",
            " [ 9 22 46]]\n"
          ],
          "name": "stdout"
        }
      ]
    },
    {
      "cell_type": "code",
      "metadata": {
        "id": "rCRzUAffsRWD"
      },
      "source": [
        "# Calculando igualdad.\n",
        "print(AB_t == B_tA_t)"
      ],
      "execution_count": null,
      "outputs": []
    },
    {
      "cell_type": "markdown",
      "metadata": {
        "id": "qiMVPOV_tVNs"
      },
      "source": [
        "---\n",
        "Clase - Comprobando la solucion de un sistema de ecuaciones lineal.\n",
        "<br>\n",
        "y = 3X + 5 <br>\n",
        "y = 2x + 3 <br>\n",
        "x -> y <br>\n",
        "\n",
        "---"
      ]
    },
    {
      "cell_type": "markdown",
      "metadata": {
        "id": "RbQpvvQFvrxN"
      },
      "source": [
        "---\n",
        "1. Importar para matplotlib  inline para mostrar los graficos de cada celda\n",
        "2. Importar metodo matplotlib.pyplot para graficar.\n",
        "3. Definir intervalos del plano con la funcion np.arange(,,)\n",
        "4. Calcular los puntos y_1 = 3+x + 5 con y_2 = 3+x + 3\n",
        "5. Graficar metodo con plt.figure\n",
        "6. Asignar valores plt.plot(x, y_1) plt.plot(x, y_2)\n",
        "7. Definir entre que valores calcula plt.xlim(-5,5) plt.ylim(-5,5)\n",
        "8. Agrgar Coordenadas plt.axvline(x=0, color='') plt.axhline(y=0, color='')\n",
        "\n",
        "---"
      ]
    },
    {
      "cell_type": "code",
      "metadata": {
        "id": "yojQAiUnvnVE"
      },
      "source": [
        "# Importar para matplotlib  inline para mostrar los graficos de cada celda\n",
        "%matplotlib inline\n",
        "import numpy as np\n",
        "import matplotlib.pyplot as plt\n",
        "\n",
        "# Definir intervalos del plano con la funcion np.arange(,,)\n",
        "x = np.arange(-5,5)\n",
        "\n",
        "# Calcular los puntos \n",
        "y_1 = 3*x + 5 \n",
        "y_2 = 2*x + 3"
      ],
      "execution_count": 41,
      "outputs": []
    },
    {
      "cell_type": "code",
      "metadata": {
        "colab": {
          "base_uri": "https://localhost:8080/",
          "height": 283
        },
        "id": "NWxtIa-pxfgX",
        "outputId": "d965336e-2a4c-40fd-fea7-8c453fbe82f2"
      },
      "source": [
        "# Graficar metodo\n",
        "plt.figure()\n",
        "plt.plot(x, y_1) \n",
        "plt.plot(x, y_2)\n",
        "\n",
        "# Definir entre que valores calcula \n",
        "plt.xlim(-5,5) \n",
        "plt.ylim(-5,5)\n",
        "\n",
        "# Agrgar Coordenadas \n",
        "plt.axvline(x=0, color='grey') \n",
        "plt.axhline(y=0, color='grey')"
      ],
      "execution_count": 42,
      "outputs": [
        {
          "output_type": "execute_result",
          "data": {
            "text/plain": [
              "<matplotlib.lines.Line2D at 0x7fce9b0ce910>"
            ]
          },
          "metadata": {
            "tags": []
          },
          "execution_count": 42
        },
        {
          "output_type": "display_data",
          "data": {
            "image/png": "[encoded data removed]",
            "text/plain": [
              "<Figure size 432x288 with 1 Axes>"
            ]
          },
          "metadata": {
            "tags": [],
            "needs_background": "light"
          }
        }
      ]
    },
    {
      "cell_type": "code",
      "metadata": {
        "colab": {
          "base_uri": "https://localhost:8080/"
        },
        "id": "yf9l38SSx4IQ",
        "outputId": "0910ddc6-5c14-4a86-dbb6-7ee178a7223e"
      },
      "source": [
        "# Definiendo matricialmente el sistema de ecuaciones.\n",
        "A = np.array([[-3,1], [-2,1]])\n",
        "B = np.array([[5],[3]])\n",
        "\n",
        "#Solucion 1 \n",
        "sol_1 = np.array([-2,-1])\n",
        "print(sol_1)\n"
      ],
      "execution_count": 45,
      "outputs": [
        {
          "output_type": "stream",
          "text": [
            "[-2 -1]\n",
            "[5 3]\n"
          ],
          "name": "stdout"
        }
      ]
    },
    {
      "cell_type": "code",
      "metadata": {
        "colab": {
          "base_uri": "https://localhost:8080/"
        },
        "id": "lHCPCTaC0EIa",
        "outputId": "00366e6b-525b-4224-f829-e8dcf8e04aaa"
      },
      "source": [
        "# Validando solucion 1 dada.\n",
        "print(A.dot(sol_1))"
      ],
      "execution_count": 48,
      "outputs": [
        {
          "output_type": "stream",
          "text": [
            "[5 3]\n"
          ],
          "name": "stdout"
        }
      ]
    }
  ]
}